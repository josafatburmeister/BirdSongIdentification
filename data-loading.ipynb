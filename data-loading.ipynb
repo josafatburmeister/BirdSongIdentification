{
 "metadata": {
  "language_info": {
   "codemirror_mode": {
    "name": "ipython",
    "version": 3
   },
   "file_extension": ".py",
   "mimetype": "text/x-python",
   "name": "python",
   "nbconvert_exporter": "python",
   "pygments_lexer": "ipython3",
   "version": "3.9.5"
  },
  "orig_nbformat": 2,
  "kernelspec": {
   "name": "python3",
   "display_name": "Python 3.9.5 64-bit ('venv': venv)"
  },
  "metadata": {
   "interpreter": {
    "hash": "ac2eaa0ea0ebeafcc7822e65e46aa9d4f966f30b695406963e145ea4a91cd4fc"
   }
  },
  "interpreter": {
   "hash": "d719bb320663bd2a0609280710b197c0a55754fcb20cefda89fecd8ec38b9880"
  }
 },
 "nbformat": 4,
 "nbformat_minor": 2,
 "cells": [
  {
   "source": [
    "## Install dependencies"
   ],
   "cell_type": "markdown",
   "metadata": {}
  },
  {
   "cell_type": "code",
   "execution_count": 1,
   "metadata": {},
   "outputs": [
    {
     "output_type": "stream",
     "name": "stdout",
     "text": [
      "Requirement already satisfied: boto3==1.17.89 in ./venv/lib/python3.9/site-packages (from -r requirements.txt (line 1)) (1.17.89)\n",
      "Requirement already satisfied: botocore==1.20.89 in ./venv/lib/python3.9/site-packages (from -r requirements.txt (line 2)) (1.20.89)\n",
      "Requirement already satisfied: cryptography==3.2.1 in ./venv/lib/python3.9/site-packages (from -r requirements.txt (line 3)) (3.2.1)\n",
      "Requirement already satisfied: dynaconf==3.1.4 in ./venv/lib/python3.9/site-packages (from -r requirements.txt (line 4)) (3.1.4)\n",
      "Requirement already satisfied: fire==0.4.0 in ./venv/lib/python3.9/site-packages (from -r requirements.txt (line 5)) (0.4.0)\n",
      "Requirement already satisfied: google-cloud-logging==2.0.1 in ./venv/lib/python3.9/site-packages (from -r requirements.txt (line 6)) (2.0.1)\n",
      "Requirement already satisfied: grpcio==1.34.0 in ./venv/lib/python3.9/site-packages (from -r requirements.txt (line 7)) (1.34.0)\n",
      "Requirement already satisfied: grpcio-opentracing==1.1.4 in ./venv/lib/python3.9/site-packages (from -r requirements.txt (line 8)) (1.1.4)\n",
      "Requirement already satisfied: joblib==1.0.1 in ./venv/lib/python3.9/site-packages (from -r requirements.txt (line 9)) (1.0.1)\n",
      "Requirement already satisfied: kfp==1.6.3 in ./venv/lib/python3.9/site-packages (from -r requirements.txt (line 10)) (1.6.3)\n",
      "Requirement already satisfied: kfserving==0.4.1 in ./venv/lib/python3.9/site-packages (from -r requirements.txt (line 11)) (0.4.1)\n",
      "Requirement already satisfied: kubeflow-fairing==1.0.2 in ./venv/lib/python3.9/site-packages (from -r requirements.txt (line 12)) (1.0.2)\n",
      "Collecting kubeflow-metadata==0.3.1\n",
      "  Using cached kubeflow-metadata-0.3.1.tar.gz (10 kB)\n",
      "Requirement already satisfied: kubeflow-pytorchjob==0.1.3 in ./venv/lib/python3.9/site-packages (from -r requirements.txt (line 14)) (0.1.3)\n",
      "Requirement already satisfied: kubernetes==12.0.1 in ./venv/lib/python3.9/site-packages (from -r requirements.txt (line 16)) (12.0.1)\n",
      "Requirement already satisfied: librosa==0.8.1 in ./venv/lib/python3.9/site-packages (from -r requirements.txt (line 17)) (0.8.1)\n",
      "\u001b[31mERROR: Could not find a version that satisfies the requirement ml-metadata==0.24.0 (from versions: 0.12.0.dev0, 0.13.0.dev0, 0.13.1.dev0)\u001b[0m\n",
      "\u001b[31mERROR: No matching distribution found for ml-metadata==0.24.0\u001b[0m\n",
      "\u001b[33mWARNING: You are using pip version 21.1.2; however, version 21.1.3 is available.\n",
      "You should consider upgrading via the '/Users/josafat/1-Documents/4_Studium/IT-Systems-Engineering/2_Skripte/2-Master/2. Semester/Building Machine Learning Applications/BirdSongIdentification/venv/bin/python3 -m pip install --upgrade pip' command.\u001b[0m\n"
     ]
    }
   ],
   "source": [
    "!python3 -m pip install -r requirements.txt"
   ]
  },
  {
   "source": [
    "## Setup file path manager & logging\n"
   ],
   "cell_type": "markdown",
   "metadata": {}
  },
  {
   "cell_type": "code",
   "execution_count": 1,
   "metadata": {},
   "outputs": [],
   "source": [
    "import logging\n",
    "\n",
    "from data_preparation import filepaths\n",
    "from general.logging import logger\n",
    "\n",
    "path_manager = filepaths.PathManager(\"./data\")\n",
    "\n",
    "logger.setLevel(logging.VERBOSE)"
   ]
  },
  {
   "source": [
    "## Step 1: Download audio files and metadata from xeno-canto"
   ],
   "cell_type": "markdown",
   "metadata": {}
  },
  {
   "cell_type": "code",
   "execution_count": 2,
   "metadata": {},
   "outputs": [
    {
     "output_type": "display_data",
     "data": {
      "text/plain": "Download label file for Petronia petronia...: 0it [00:00, ?it/s]",
      "application/vnd.jupyter.widget-view+json": {
       "version_major": 2,
       "version_minor": 0,
       "model_id": "a09bf56bed2948b7afa43ac1774424cd"
      }
     },
     "metadata": {}
    },
    {
     "output_type": "stream",
     "name": "stderr",
     "text": [
      "sound types ['song', 'call']\n",
      "selected_sound_types {'song', 'call'}\n",
      "Sound types for Petronia petronia: {'song', 'call'}\n",
      "empty dir ./data/train/audio\n",
      "empty dir ./data/val/audio\n",
      "empty dir ./data/test/audio\n"
     ]
    },
    {
     "output_type": "display_data",
     "data": {
      "text/plain": "Download training set...:   0%|          | 0/6 [00:00<?, ?it/s]",
      "application/vnd.jupyter.widget-view+json": {
       "version_major": 2,
       "version_minor": 0,
       "model_id": "4c4bf7a0118a42c6bd2f7c41f9ffc7f7"
      }
     },
     "metadata": {}
    },
    {
     "output_type": "stream",
     "name": "stderr",
     "text": [
      "download https://www.xeno-canto.org/464984/download\n",
      "download https://www.xeno-canto.org/567431/download\n",
      "download https://www.xeno-canto.org/369008/download\n",
      "download https://www.xeno-canto.org/128141/download\n",
      "download https://www.xeno-canto.org/279048/download\n",
      "Could not download file with id 3      567431\n",
      "116    370012\n",
      "106    464984\n",
      "117    369008\n",
      "71     128141\n",
      "180    279048\n",
      "Name: id, dtype: object\n"
     ]
    },
    {
     "output_type": "display_data",
     "data": {
      "text/plain": "Download validation set...:   0%|          | 0/2 [00:00<?, ?it/s]",
      "application/vnd.jupyter.widget-view+json": {
       "version_major": 2,
       "version_minor": 0,
       "model_id": "03ea86cef46f48b3a7da648c4fb5b6e1"
      }
     },
     "metadata": {}
    },
    {
     "output_type": "stream",
     "name": "stderr",
     "text": [
      "download https://www.xeno-canto.org/498710/download\n",
      "download https://www.xeno-canto.org/460339/download\n"
     ]
    },
    {
     "output_type": "display_data",
     "data": {
      "text/plain": "Download test set...:   0%|          | 0/2 [00:00<?, ?it/s]",
      "application/vnd.jupyter.widget-view+json": {
       "version_major": 2,
       "version_minor": 0,
       "model_id": "fba18b6b93d94eefa940fcc8e4608510"
      }
     },
     "metadata": {}
    },
    {
     "output_type": "stream",
     "name": "stderr",
     "text": [
      "download https://www.xeno-canto.org/414373/download\n",
      "download https://www.xeno-canto.org/567432/download\n"
     ]
    }
   ],
   "source": [
    "from data_preparation import downloader\n",
    "\n",
    "downloader = downloader.XenoCantoDownloader(path_manager)\n",
    "\n",
    "downloader.create_datasets(\n",
    "    species_list=[\"Petronia petronia, call\", \"Petronia petronia, song\"],\n",
    "    use_nips4b_species_list=False,\n",
    "    maximum_samples_per_class=10,\n",
    "    test_size=0.35,\n",
    "    min_quality=\"E\",\n",
    "    sound_types=[\"song\", \"call\"],   \n",
    "    sexes=None,\n",
    "    life_stages=None,\n",
    "    exclude_special_cases=True,\n",
    "    maximum_number_of_background_species=1,\n",
    "    clear_audio_cache=False,\n",
    "    clear_label_cache=False,\n",
    "    )"
   ]
  },
  {
   "source": [
    "\n",
    "## Step 2: Create spectrograms from audio files"
   ],
   "cell_type": "markdown",
   "metadata": {}
  },
  {
   "cell_type": "code",
   "execution_count": 3,
   "metadata": {},
   "outputs": [
    {
     "output_type": "stream",
     "name": "stderr",
     "text": [
      "empty dir ./data/train/spectrograms_1000\n"
     ]
    },
    {
     "output_type": "display_data",
     "data": {
      "text/plain": "Create spectrograms for training set:   0%|          | 0/5 [00:00<?, ?it/s]",
      "application/vnd.jupyter.widget-view+json": {
       "version_major": 2,
       "version_minor": 0,
       "model_id": "7a20c0022dde4babad438e8ee324d9d6"
      }
     },
     "metadata": {}
    },
    {
     "output_type": "stream",
     "name": "stderr",
     "text": [
      "empty dir ./data/val/spectrograms_1000\n"
     ]
    },
    {
     "output_type": "display_data",
     "data": {
      "text/plain": "Create spectrograms for validation set:   0%|          | 0/2 [00:00<?, ?it/s]",
      "application/vnd.jupyter.widget-view+json": {
       "version_major": 2,
       "version_minor": 0,
       "model_id": "b30786d2d100401288ae9547df9aff0a"
      }
     },
     "metadata": {}
    },
    {
     "output_type": "stream",
     "name": "stderr",
     "text": [
      "empty dir ./data/test/spectrograms_1000\n"
     ]
    },
    {
     "output_type": "display_data",
     "data": {
      "text/plain": "Create spectrograms for test set:   0%|          | 0/2 [00:00<?, ?it/s]",
      "application/vnd.jupyter.widget-view+json": {
       "version_major": 2,
       "version_minor": 0,
       "model_id": "c2a85ff9d0d64174856514d9d76eef11"
      }
     },
     "metadata": {}
    }
   ],
   "source": [
    "from data_preparation import spectrograms\n",
    "\n",
    "spectrogram_creator = spectrograms.SpectrogramCreator(\n",
    "            1000,\n",
    "            path_manager,\n",
    "            include_noise_samples=True)\n",
    "\n",
    "spectrogram_creator.create_spectrograms_for_splits(splits=[\"train\", \"val\", \"test\"], clear_spectrogram_cache=False)"
   ]
  },
  {
   "source": [
    "## Step 3: Train model"
   ],
   "cell_type": "markdown",
   "metadata": {}
  },
  {
   "cell_type": "code",
   "execution_count": 4,
   "metadata": {
    "tags": []
   },
   "outputs": [
    {
     "output_type": "stream",
     "name": "stderr",
     "text": [
      "Number of species: 3\n",
      "Epoch 1/1\n",
      "----------\n",
      "\n",
      "| metric          |  Petronia_petronia_call  |  Petronia_petronia_song  |  noise  |\n",
      "|-----------------|--------------------------|--------------------------|---------|\n",
      "| f1-score        |          0.5479          |          0.2027          | 0.6242  |\n",
      "| precision       |          0.5063          |          0.1128          | 0.9423  |\n",
      "| recall          |          0.5970          |          1.0000          | 0.4667  |\n",
      "|                 |                          |                          |         |\n",
      "| true-positives  |         40.0000          |         15.0000          | 49.0000 |\n",
      "| true-negatives  |         81.0000          |         54.0000          | 79.0000 |\n",
      "| false-positives |         39.0000          |         118.0000         | 3.0000  |\n",
      "| false-negatives |         27.0000          |          0.0000          | 56.0000 |\n",
      "\n",
      "\n",
      "| metric          |  Petronia_petronia_call  |  Petronia_petronia_song  |  noise  |\n",
      "|-----------------|--------------------------|--------------------------|---------|\n",
      "| f1-score        |          0.5376          |          0.0000          | 0.0000  |\n",
      "| precision       |          0.3676          |          0.0000          | 0.0000  |\n",
      "| recall          |          1.0000          |          0.0000          | 0.0000  |\n",
      "|                 |                          |                          |         |\n",
      "| true-positives  |         25.0000          |          0.0000          | 0.0000  |\n",
      "| true-negatives  |          1.0000          |          0.0000          | 25.0000 |\n",
      "| false-positives |         43.0000          |         69.0000          | 0.0000  |\n",
      "| false-negatives |          0.0000          |          0.0000          | 44.0000 |\n",
      "\n",
      "Training complete in 0m 55s\n",
      "Summary\n",
      "----------\n",
      "Validation metrics of model with best average F1-Scores (epoch 1):\n",
      "\n",
      "| metric          |  Petronia_petronia_call  |  Petronia_petronia_song  |  noise  |\n",
      "|-----------------|--------------------------|--------------------------|---------|\n",
      "| f1-score        |          0.5376          |          0.0000          | 0.0000  |\n",
      "| precision       |          0.3676          |          0.0000          | 0.0000  |\n",
      "| recall          |          1.0000          |          0.0000          | 0.0000  |\n",
      "|                 |                          |                          |         |\n",
      "| true-positives  |         25.0000          |          0.0000          | 0.0000  |\n",
      "| true-negatives  |          1.0000          |          0.0000          | 25.0000 |\n",
      "| false-positives |         43.0000          |         69.0000          | 0.0000  |\n",
      "| false-negatives |          0.0000          |          0.0000          | 44.0000 |\n",
      "\n",
      "Validation metrics of model with best minimum F1-Score (epoch 1):\n",
      "\n",
      "| metric          |  Petronia_petronia_call  |  Petronia_petronia_song  |  noise  |\n",
      "|-----------------|--------------------------|--------------------------|---------|\n",
      "| f1-score        |          0.5376          |          0.0000          | 0.0000  |\n",
      "| precision       |          0.3676          |          0.0000          | 0.0000  |\n",
      "| recall          |          1.0000          |          0.0000          | 0.0000  |\n",
      "|                 |                          |                          |         |\n",
      "| true-positives  |         25.0000          |          0.0000          | 0.0000  |\n",
      "| true-negatives  |          1.0000          |          0.0000          | 25.0000 |\n",
      "| false-positives |         43.0000          |         69.0000          | 0.0000  |\n",
      "| false-negatives |          0.0000          |          0.0000          | 44.0000 |\n",
      "\n",
      "Validation metrics of best model for class Petronia_petronia_call (epoch 1):\n",
      "\n",
      "| metric          |  Petronia_petronia_call  |  Petronia_petronia_song  |  noise  |\n",
      "|-----------------|--------------------------|--------------------------|---------|\n",
      "| f1-score        |          0.5376          |          0.0000          | 0.0000  |\n",
      "| precision       |          0.3676          |          0.0000          | 0.0000  |\n",
      "| recall          |          1.0000          |          0.0000          | 0.0000  |\n",
      "|                 |                          |                          |         |\n",
      "| true-positives  |         25.0000          |          0.0000          | 0.0000  |\n",
      "| true-negatives  |          1.0000          |          0.0000          | 25.0000 |\n",
      "| false-positives |         43.0000          |         69.0000          | 0.0000  |\n",
      "| false-negatives |          0.0000          |          0.0000          | 44.0000 |\n",
      "\n",
      "Validation metrics of best model for class Petronia_petronia_song (epoch 1):\n",
      "\n",
      "| metric          |  Petronia_petronia_call  |  Petronia_petronia_song  |  noise  |\n",
      "|-----------------|--------------------------|--------------------------|---------|\n",
      "| f1-score        |          0.5376          |          0.0000          | 0.0000  |\n",
      "| precision       |          0.3676          |          0.0000          | 0.0000  |\n",
      "| recall          |          1.0000          |          0.0000          | 0.0000  |\n",
      "|                 |                          |                          |         |\n",
      "| true-positives  |         25.0000          |          0.0000          | 0.0000  |\n",
      "| true-negatives  |          1.0000          |          0.0000          | 25.0000 |\n",
      "| false-positives |         43.0000          |         69.0000          | 0.0000  |\n",
      "| false-negatives |          0.0000          |          0.0000          | 44.0000 |\n",
      "\n",
      "Validation metrics of best model for class noise (epoch 1):\n",
      "\n",
      "| metric          |  Petronia_petronia_call  |  Petronia_petronia_song  |  noise  |\n",
      "|-----------------|--------------------------|--------------------------|---------|\n",
      "| f1-score        |          0.5376          |          0.0000          | 0.0000  |\n",
      "| precision       |          0.3676          |          0.0000          | 0.0000  |\n",
      "| recall          |          1.0000          |          0.0000          | 0.0000  |\n",
      "|                 |                          |                          |         |\n",
      "| true-positives  |         25.0000          |          0.0000          | 0.0000  |\n",
      "| true-negatives  |          1.0000          |          0.0000          | 25.0000 |\n",
      "| false-positives |         43.0000          |         69.0000          | 0.0000  |\n",
      "| false-negatives |          0.0000          |          0.0000          | 44.0000 |\n",
      "\n"
     ]
    }
   ],
   "source": [
    "from training import training\n",
    "\n",
    "trainer = training.ModelTrainer(\n",
    "    path_manager,\n",
    "    architecture=\"resnet18\",\n",
    "    chunk_length=1000,\n",
    "    experiment_name=\"Test run\",\n",
    "    batch_size=100,\n",
    "    include_noise_samples=True,\n",
    "    layers_to_unfreeze=[\"layer3\", \"layer4\", \"avg_pool\", \"fc\"],\n",
    "    learning_rate=0.001,\n",
    "    learning_rate_scheduler=None,\n",
    "    learning_rate_scheduler_gamma=0.1,\n",
    "    learning_rate_scheduler_step_size=7,\n",
    "    multi_label_classification=True,\n",
    "    multi_label_classification_threshold=0.5,\n",
    "    number_epochs=1,\n",
    "    number_workers=0,\n",
    "    optimizer=\"Adam\",\n",
    "    track_metrics=False,\n",
    "    wandb_entity_name=\"\",\n",
    "    wandb_key=\"\",\n",
    "    wandb_project_name=\"\"\n",
    ")\n",
    "best_average_model, best_minimum_model, best_models_per_class = trainer.train_model()"
   ]
  },
  {
   "source": [
    "## Step 4: Evaluate model"
   ],
   "cell_type": "markdown",
   "metadata": {}
  },
  {
   "cell_type": "code",
   "execution_count": 5,
   "metadata": {},
   "outputs": [
    {
     "output_type": "stream",
     "name": "stderr",
     "text": [
      "Model performance of test_model on evaluation set:\n",
      "\n",
      "| metric          |  Petronia_petronia_call  |  Petronia_petronia_song  |  noise  |\n",
      "|-----------------|--------------------------|--------------------------|---------|\n",
      "| f1-score        |          0.0000          |          0.9683          | 0.0000  |\n",
      "| precision       |          0.0000          |          0.9385          | 0.0000  |\n",
      "| recall          |          0.0000          |          1.0000          | 0.0000  |\n",
      "|                 |                          |                          |         |\n",
      "| true-positives  |          0.0000          |         61.0000          | 0.0000  |\n",
      "| true-negatives  |          2.0000          |          0.0000          | 61.0000 |\n",
      "| false-positives |         63.0000          |          4.0000          | 0.0000  |\n",
      "| false-negatives |          0.0000          |          0.0000          | 4.0000  |\n",
      "\n"
     ]
    }
   ],
   "source": [
    "from training import model_evaluator\n",
    "\n",
    "evaluator = model_evaluator.ModelEvaluator(path_manager,\n",
    "                                            architecture=\"resnet18\",\n",
    "                                            batch_size=100,\n",
    "                                            chunk_length=1000,\n",
    "                                            include_noise_samples=True,\n",
    "                                            multi_label_classification=True,\n",
    "                                            track_metrics=False,\n",
    "                                            test=\"test\")\n",
    "\n",
    "evaluator.evaluate_model_on_test_set(model=best_average_model, model_name=\"test_model\",)"
   ]
  },
  {
   "cell_type": "code",
   "execution_count": null,
   "metadata": {},
   "outputs": [],
   "source": []
  }
 ]
}