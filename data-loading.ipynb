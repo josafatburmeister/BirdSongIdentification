{
 "metadata": {
  "language_info": {
   "codemirror_mode": {
    "name": "ipython",
    "version": 3
   },
   "file_extension": ".py",
   "mimetype": "text/x-python",
   "name": "python",
   "nbconvert_exporter": "python",
   "pygments_lexer": "ipython3",
   "version": "3.9.5"
  },
  "orig_nbformat": 2,
  "kernelspec": {
   "name": "python3",
   "language": "python",
   "display_name": "Python 3"
  },
  "metadata": {
   "interpreter": {
    "hash": "ac2eaa0ea0ebeafcc7822e65e46aa9d4f966f30b695406963e145ea4a91cd4fc"
   }
  }
 },
 "nbformat": 4,
 "nbformat_minor": 2,
 "cells": [
  {
   "source": [
    "## Setup file path manager"
   ],
   "cell_type": "markdown",
   "metadata": {}
  },
  {
   "cell_type": "code",
   "execution_count": 1,
   "metadata": {},
   "outputs": [],
   "source": [
    "from data_preparation import filepaths\n",
    "\n",
    "path_manager = filepaths.PathManager(\"./data\")\n"
   ]
  },
  {
   "source": [
    "## Download audio files and metadata from xeno-canto"
   ],
   "cell_type": "markdown",
   "metadata": {}
  },
  {
   "cell_type": "code",
   "execution_count": null,
   "metadata": {},
   "outputs": [],
   "source": [
    "from data_preparation import downloader\n",
    "\n",
    "downloader = downloader.XenoCantoDownloader(path_manager)\n",
    "\n",
    "downloader.create_datasets(\n",
    "    [\"Petronia petronia\"], min_quality=\"A\", sound_types=[\"song\"], maximum_number_of_background_species=1)"
   ]
  },
  {
   "source": [
    "## Create spectrograms from audio files"
   ],
   "cell_type": "markdown",
   "metadata": {}
  },
  {
   "cell_type": "code",
   "execution_count": null,
   "metadata": {},
   "outputs": [],
   "source": [
    "from data_preparation import spectrograms\n",
    "\n",
    "spectrogram_creator = spectrograms.SpectrogramCreator(\n",
    "    1000, path_manager)\n",
    "\n",
    "spectrogram_creator.create_spectrograms_for_datasets(datasets=[\"train\", \"val\", \"test\"])"
   ]
  },
  {
   "source": [
    "## Create datasets and dataloaders"
   ],
   "cell_type": "markdown",
   "metadata": {}
  },
  {
   "cell_type": "code",
   "execution_count": 2,
   "metadata": {},
   "outputs": [
    {
     "name": "stdout",
     "output_type": "stream",
     "text": [
      "True\n"
     ]
    }
   ],
   "source": [
    "from training import dataset\n",
    "from torch.utils.data import DataLoader\n",
    "\n",
    "train_set = dataset.XenoCantoSpectrograms(\n",
    "    path_manager, chunk_length=1000, split=\"train\")\n",
    "train_loader = DataLoader(\n",
    "    train_set, batch_size=2, shuffle=True, num_workers=0)\n",
    "\n",
    "\n",
    "val_set = dataset.XenoCantoSpectrograms(\n",
    "    path_manager, chunk_length=1000, split=\"val\")\n",
    "val_loader = DataLoader(\n",
    "    val_set, batch_size=2, shuffle=True, num_workers=0)\n",
    "\n",
    "test_set = dataset.XenoCantoSpectrograms(\n",
    "    path_manager, chunk_length=1000, split=\"test\")\n",
    "test_loader = DataLoader(\n",
    "    test_set, batch_size=2, shuffle=True, num_workers=0)"
   ]
  },
  {
   "cell_type": "markdown",
   "source": [
    "## Train model"
   ],
   "metadata": {
    "collapsed": false,
    "pycharm": {
     "name": "#%% md\n"
    }
   }
  },
  {
   "cell_type": "code",
   "execution_count": 3,
   "outputs": [
    {
     "name": "stdout",
     "output_type": "stream",
     "text": [
      "cuda:0\n",
      "Epoch 0/24\n",
      "----------\n",
      "\n",
      "Epoch 1/24\n",
      "----------\n",
      "\n",
      "Epoch 2/24\n",
      "----------\n",
      "\n",
      "Epoch 3/24\n",
      "----------\n",
      "\n",
      "Epoch 4/24\n",
      "----------\n",
      "\n",
      "Epoch 5/24\n",
      "----------\n",
      "\n",
      "Epoch 6/24\n",
      "----------\n",
      "\n",
      "Epoch 7/24\n",
      "----------\n",
      "\n",
      "Epoch 8/24\n",
      "----------\n",
      "\n",
      "Epoch 9/24\n",
      "----------\n",
      "\n",
      "Epoch 10/24\n",
      "----------\n",
      "\n",
      "Epoch 11/24\n",
      "----------\n",
      "\n",
      "Epoch 12/24\n",
      "----------\n",
      "\n",
      "Epoch 13/24\n",
      "----------\n",
      "\n",
      "Epoch 14/24\n",
      "----------\n",
      "\n",
      "Epoch 15/24\n",
      "----------\n",
      "\n",
      "Epoch 16/24\n",
      "----------\n",
      "\n",
      "Epoch 17/24\n",
      "----------\n",
      "\n",
      "Epoch 18/24\n",
      "----------\n",
      "\n",
      "Epoch 19/24\n",
      "----------\n",
      "\n",
      "Epoch 20/24\n",
      "----------\n",
      "\n",
      "Epoch 21/24\n",
      "----------\n",
      "\n",
      "Epoch 22/24\n",
      "----------\n",
      "\n",
      "Epoch 23/24\n",
      "----------\n",
      "\n",
      "Epoch 24/24\n",
      "----------\n",
      "\n",
      "Training complete in 13m 17s\n",
      "Best val Acc: 1.000000\n"
     ]
    }
   ],
   "source": [
    "import torch\n",
    "import torch.nn as nn\n",
    "import torch.optim as optim\n",
    "from torch.optim import lr_scheduler\n",
    "import time\n",
    "import copy\n",
    "from torchvision import models\n",
    "\n",
    "device = torch.device(\"cuda:0\" if torch.cuda.is_available() else \"cpu\")\n",
    "print(device)\n",
    "\n",
    "def train_model(model, criterion, optimizer, scheduler, num_epochs=25):\n",
    "    since = time.time()\n",
    "\n",
    "    best_model_wts = copy.deepcopy(model.state_dict())\n",
    "    best_acc = 0.0\n",
    "\n",
    "    for epoch in range(num_epochs):\n",
    "        print('Epoch {}/{}'.format(epoch, num_epochs - 1))\n",
    "        print('----------')\n",
    "\n",
    "        # Training Phase\n",
    "        model.train()\n",
    "        running_loss = 0.0\n",
    "        running_corrects = 0\n",
    "\n",
    "        for images_train, labels_train in train_loader:\n",
    "            # TODO: Labels muessen hier noch richtig als Tensor übergeben werden\n",
    "            labels_train = torch.zeros(images_train.shape[0], dtype=torch.long)\n",
    "            images_train = images_train.to(device)\n",
    "            labels_train = labels_train.to(device)\n",
    "\n",
    "            optimizer.zero_grad()\n",
    "\n",
    "            with torch.set_grad_enabled(True):\n",
    "                images_out = model(images_train)\n",
    "                _, preds = torch.max(images_out, 1)\n",
    "                loss = criterion(images_out, labels_train)\n",
    "\n",
    "                loss.backward()\n",
    "                optimizer.step()\n",
    "\n",
    "            running_loss += loss.item() * images_train.size(0)\n",
    "            running_corrects += torch.sum(preds == labels_train.data)\n",
    "\n",
    "            scheduler.step()\n",
    "\n",
    "            epoch_loss = running_loss / len(train_set)\n",
    "            epoch_acc = running_corrects.double() / len(train_set)\n",
    "\n",
    "           # print('{} Loss: {:.4f} Acc: {:.4f}'.format(\n",
    "           #     'train', epoch_loss, epoch_acc))\n",
    "\n",
    "            # Evaluate Model\n",
    "            model.eval()\n",
    "            running_loss = 0.0\n",
    "            running_corrects = 0\n",
    "\n",
    "            for images_val, labels_val in val_loader:\n",
    "                # TODO: Labels muessen hier noch richtig als Tensor übergeben werden\n",
    "                labels_val = torch.zeros(images_val.shape[0], dtype=torch.long)\n",
    "                images_val = images_val.to(device)\n",
    "                labels_val = labels_val.to(device)\n",
    "\n",
    "                optimizer.zero_grad()\n",
    "\n",
    "                outputs = model(images_val)\n",
    "                _, preds = torch.max(outputs, 1)\n",
    "                loss = criterion(outputs, labels_val)\n",
    "\n",
    "                running_loss += loss.item() * images_val.size(0)\n",
    "                running_corrects += torch.sum(preds == labels_val.data)\n",
    "\n",
    "            epoch_loss = running_loss / len(val_set)\n",
    "            epoch_acc = running_corrects.double() / len(val_set)\n",
    "\n",
    "           # print('{} Loss: {:.4f} Acc: {:.4f}'.format(\n",
    "            #    'val', epoch_loss, epoch_acc))\n",
    "\n",
    "            if epoch_acc > best_acc:\n",
    "                best_acc = epoch_acc\n",
    "                best_model_wts = copy.deepcopy(model.state_dict())\n",
    "\n",
    "        print()\n",
    "\n",
    "    time_elapsed = time.time() - since\n",
    "    print('Training complete in {:.0f}m {:.0f}s'.format(\n",
    "        time_elapsed // 60, time_elapsed % 60))\n",
    "    print('Best val Acc: {:4f}'.format(best_acc))\n",
    "\n",
    "    model.load_state_dict(best_model_wts)\n",
    "    return model\n",
    "\n",
    "resnet_model = models.resnet18()\n",
    "resnet_model.to(device)\n",
    "\n",
    "my_criterion = nn.CrossEntropyLoss()\n",
    "my_optimizer = optim.SGD(resnet_model.parameters(), lr=0.001, momentum=0.9)\n",
    "\n",
    "exp_lr_scheduler = lr_scheduler.StepLR(my_optimizer, step_size=7, gamma=0.1)\n",
    "\n",
    "my_model = train_model(resnet_model, my_criterion, my_optimizer, exp_lr_scheduler,\n",
    "                       num_epochs=25)"
   ],
   "metadata": {
    "collapsed": false,
    "pycharm": {
     "name": "#%%\n"
    }
   }
  }
 ]
}