{
 "cells": [
  {
   "cell_type": "code",
   "execution_count": null,
   "outputs": [],
   "source": [
    "from data_preparation import filepaths\n",
    "\n",
    "path_manager = filepaths.PathManager(\"./data\")"
   ],
   "metadata": {
    "collapsed": false,
    "pycharm": {
     "name": "#%%\n"
    }
   }
  },
  {
   "cell_type": "markdown",
   "source": [
    "## Create datasets and dataloaders"
   ],
   "metadata": {
    "collapsed": false
   }
  },
  {
   "cell_type": "code",
   "execution_count": null,
   "outputs": [],
   "source": [
    "from data_preparation import downloader\n",
    "\n",
    "download_manager = downloader.XenoCantoDownloader(path_manager)\n",
    "\n",
    "download_manager.create_datasets(species_list=[\n",
    "    \"Phylloscopus collybita, song, call\",\n",
    "    \"Parus major, song\",\n",
    "    \"Fringilla coelebs, song\",\n",
    "    \"Erithacus rubecula, song\",\n",
    "    \"Troglodytes troglodytes, song\",\n",
    "    \"Turdus philomelos, song\",\n",
    "    \"Luscinia megarhynchos, song\",\n",
    "    \"Sylvia atricapilla, song\",\n",
    "    \"Cyanistes caeruleus, song\"\n",
    "], use_nips4b_species_list=False, maximum_samples_per_class=30,\n",
    "    test_size=0.35, min_quality='A', exclude_special_cases=True,\n",
    "    maximum_number_of_background_species=0, clear_audio_cache=False,\n",
    "    clear_label_cache=False, random_state=12)\n"
   ],
   "metadata": {
    "collapsed": false,
    "pycharm": {
     "name": "#%%\n"
    }
   }
  },
  {
   "cell_type": "code",
   "execution_count": null,
   "outputs": [],
   "source": [
    "from data_preparation import spectrograms\n",
    "\n",
    "spectrogram_creator = spectrograms.SpectrogramCreator(\n",
    "    1000, path_manager, path_manager, False)\n",
    "\n",
    "spectrogram_creator.create_spectrograms_for_splits(\n",
    "    splits=[\"train\", \"val\", \"test\"], clear_spectrogram_cache=False)"
   ],
   "metadata": {
    "collapsed": false,
    "pycharm": {
     "name": "#%%\n"
    }
   }
  },
  {
   "cell_type": "code",
   "execution_count": null,
   "outputs": [],
   "source": [
    "from training import training\n",
    "\n",
    "model_trainer = training.ModelTrainer(path_manager, 'resnet18', 1000, 'test1', 64, multi_label_classification=False,\n",
    "                                      wandb_project_name='test-birdsong', wandb_entity_name='max-hpi',\n",
    "                                      track_metrics=True,\n",
    "                                      wandb_key='b44b707ff28e446c96797b0fb2f5095dcee392b9',\n",
    "                                      patience=4)\n",
    "\n",
    "my_model = model_trainer.train_model()\n"
   ],
   "metadata": {
    "collapsed": false,
    "pycharm": {
     "name": "#%%\n"
    }
   }
  }
 ],
 "metadata": {
  "kernelspec": {
   "display_name": "Python 3",
   "language": "python",
   "name": "python3"
  },
  "language_info": {
   "codemirror_mode": {
    "name": "ipython",
    "version": 2
   },
   "file_extension": ".py",
   "mimetype": "text/x-python",
   "name": "python",
   "nbconvert_exporter": "python",
   "pygments_lexer": "ipython2",
   "version": "2.7.6"
  }
 },
 "nbformat": 4,
 "nbformat_minor": 0
}