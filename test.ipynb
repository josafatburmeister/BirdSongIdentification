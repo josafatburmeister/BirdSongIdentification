{
 "cells": [
  {
   "cell_type": "code",
   "execution_count": 1,
   "outputs": [],
   "source": [
    "from data_preparation import filepaths\n",
    "\n",
    "path_manager = filepaths.PathManager(\"./data\")"
   ],
   "metadata": {
    "collapsed": false,
    "pycharm": {
     "name": "#%%\n"
    }
   }
  },
  {
   "cell_type": "markdown",
   "source": [
    "## Create datasets and dataloaders"
   ],
   "metadata": {
    "collapsed": false
   }
  },
  {
   "cell_type": "code",
   "execution_count": 2,
   "outputs": [],
   "source": [
    "from training import dataset\n",
    "from torch.utils.data import DataLoader\n",
    "\n",
    "train_set = dataset.XenoCantoSpectrograms(\n",
    "    path_manager, chunk_length=1000, split=\"train\")\n",
    "train_loader = DataLoader(\n",
    "    train_set, batch_size=32, shuffle=True, num_workers=0)\n",
    "\n",
    "\n",
    "val_set = dataset.XenoCantoSpectrograms(\n",
    "    path_manager, chunk_length=1000, split=\"val\")\n",
    "val_loader = DataLoader(\n",
    "    val_set, batch_size=32, shuffle=True, num_workers=0)\n",
    "\n",
    "test_set = dataset.XenoCantoSpectrograms(\n",
    "    path_manager, chunk_length=1000, split=\"test\")\n",
    "test_loader = DataLoader(\n",
    "    test_set, batch_size=32, shuffle=True, num_workers=0)"
   ],
   "metadata": {
    "collapsed": false,
    "pycharm": {
     "name": "#%%\n"
    }
   }
  },
  {
   "cell_type": "code",
   "execution_count": 3,
   "outputs": [
    {
     "name": "stdout",
     "output_type": "stream",
     "text": [
      "cpu\n",
      "amount of species 5\n",
      "Epoch 1/5\n",
      "----------\n",
      "val Loss: 2.1422 Acc: 0.2731\n",
      "f1 score: tensor([0.6862, 0.0124,    nan,    nan,    nan])\n",
      "f1 avg: tensor(nan)\n",
      "f1 min: tensor(nan)\n",
      "\n",
      "Epoch 2/5\n",
      "----------\n",
      "val Loss: 2.1722 Acc: 0.2700\n",
      "f1 score: tensor([0.7057, 0.0154,    nan,    nan,    nan])\n",
      "f1 avg: tensor(nan)\n",
      "f1 min: tensor(nan)\n",
      "\n",
      "Epoch 3/5\n",
      "----------\n",
      "val Loss: 2.1593 Acc: 0.2721\n",
      "f1 score: tensor([0.6919, 0.0121,    nan,    nan,    nan])\n",
      "f1 avg: tensor(nan)\n",
      "f1 min: tensor(nan)\n",
      "\n",
      "Epoch 4/5\n",
      "----------\n",
      "val Loss: 2.1502 Acc: 0.2721\n",
      "f1 score: tensor([0.6995, 0.0120,    nan,    nan,    nan])\n",
      "f1 avg: tensor(nan)\n",
      "f1 min: tensor(nan)\n",
      "\n",
      "Epoch 5/5\n",
      "----------\n",
      "val Loss: 2.1408 Acc: 0.2752\n",
      "f1 score: tensor([0.6824, 0.0085,    nan,    nan,    nan])\n",
      "f1 avg: tensor(nan)\n",
      "f1 min: tensor(nan)\n",
      "\n",
      "Training complete in 14m 35s\n",
      "Best val Acc: 0.275210\n"
     ]
    }
   ],
   "source": [
    "import torch\n",
    "from training.training import train_model as train\n",
    "import torch.nn as nn\n",
    "import torch.optim as optim\n",
    "from torch.optim import lr_scheduler\n",
    "from torchvision import models\n",
    "\n",
    "device = torch.device(\"cuda:0\" if torch.cuda.is_available() else \"cpu\")\n",
    "print(device)\n",
    "number_classes = len(train_loader.dataset.class_to_idx)\n",
    "\n",
    "resnet_model = models.resnet18(pretrained=True)\n",
    "num_ftrs = resnet_model.fc.in_features\n",
    "resnet_model.fc = nn.Linear(num_ftrs, number_classes)\n",
    "\n",
    "resnet_model.to(device)\n",
    "\n",
    "my_criterion = nn.CrossEntropyLoss()\n",
    "my_optimizer = optim.SGD(resnet_model.parameters(), lr=0.001, momentum=0.9)\n",
    "\n",
    "exp_lr_scheduler = lr_scheduler.StepLR(my_optimizer, step_size=7, gamma=0.1)\n",
    "\n",
    "my_model = train(train_loader, val_loader, test_loader,\n",
    "                 resnet_model, my_criterion, my_optimizer, exp_lr_scheduler, num_epochs=5)\n"
   ],
   "metadata": {
    "collapsed": false,
    "pycharm": {
     "name": "#%%\n"
    }
   }
  }
 ],
 "metadata": {
  "kernelspec": {
   "display_name": "Python 3",
   "language": "python",
   "name": "python3"
  },
  "language_info": {
   "codemirror_mode": {
    "name": "ipython",
    "version": 2
   },
   "file_extension": ".py",
   "mimetype": "text/x-python",
   "name": "python",
   "nbconvert_exporter": "python",
   "pygments_lexer": "ipython2",
   "version": "2.7.6"
  }
 },
 "nbformat": 4,
 "nbformat_minor": 0
}